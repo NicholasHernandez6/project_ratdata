{
 "cells": [
  {
   "cell_type": "code",
   "execution_count": 19,
   "id": "3068dca5",
   "metadata": {},
   "outputs": [],
   "source": [
    "## importing pandas\n",
    "import pandas as pd"
   ]
  },
  {
   "cell_type": "code",
   "execution_count": 20,
   "id": "9a944643",
   "metadata": {},
   "outputs": [],
   "source": [
    "##importing dataframe\n",
    "df = pd.read_csv(\"311_Service_Requests_from_2010_to_Present.csv\", low_memory=False)"
   ]
  },
  {
   "cell_type": "code",
   "execution_count": 21,
   "id": "6d2057e2",
   "metadata": {
    "scrolled": true
   },
   "outputs": [
    {
     "name": "stdout",
     "output_type": "stream",
     "text": [
      "<class 'pandas.core.frame.DataFrame'>\n",
      "RangeIndex: 349369 entries, 0 to 349368\n",
      "Data columns (total 41 columns):\n",
      " #   Column                          Non-Null Count   Dtype  \n",
      "---  ------                          --------------   -----  \n",
      " 0   Unique Key                      349369 non-null  int64  \n",
      " 1   Created Date                    349369 non-null  object \n",
      " 2   Closed Date                     320790 non-null  object \n",
      " 3   Agency                          349369 non-null  object \n",
      " 4   Agency Name                     349369 non-null  object \n",
      " 5   Complaint Type                  349369 non-null  object \n",
      " 6   Descriptor                      349369 non-null  object \n",
      " 7   Location Type                   349351 non-null  object \n",
      " 8   Incident Zip                    348727 non-null  float64\n",
      " 9   Incident Address                333711 non-null  object \n",
      " 10  Street Name                     333710 non-null  object \n",
      " 11  Cross Street 1                  298863 non-null  object \n",
      " 12  Cross Street 2                  298845 non-null  object \n",
      " 13  Intersection Street 1           114730 non-null  object \n",
      " 14  Intersection Street 2           114753 non-null  object \n",
      " 15  Address Type                    341593 non-null  object \n",
      " 16  City                            345726 non-null  object \n",
      " 17  Landmark                        88262 non-null   object \n",
      " 18  Facility Type                   0 non-null       float64\n",
      " 19  Status                          349369 non-null  object \n",
      " 20  Due Date                        255961 non-null  object \n",
      " 21  Resolution Description          326578 non-null  object \n",
      " 22  Resolution Action Updated Date  337500 non-null  object \n",
      " 23  Community Board                 349362 non-null  object \n",
      " 24  BBL                             281655 non-null  float64\n",
      " 25  Borough                         349362 non-null  object \n",
      " 26  X Coordinate (State Plane)      346784 non-null  object \n",
      " 27  Y Coordinate (State Plane)      346786 non-null  object \n",
      " 28  Open Data Channel Type          349369 non-null  object \n",
      " 29  Park Facility Name              349369 non-null  object \n",
      " 30  Park Borough                    349362 non-null  object \n",
      " 31  Vehicle Type                    0 non-null       float64\n",
      " 32  Taxi Company Borough            0 non-null       float64\n",
      " 33  Taxi Pick Up Location           0 non-null       float64\n",
      " 34  Bridge Highway Name             0 non-null       float64\n",
      " 35  Bridge Highway Direction        0 non-null       float64\n",
      " 36  Road Ramp                       0 non-null       float64\n",
      " 37  Bridge Highway Segment          0 non-null       float64\n",
      " 38  Latitude                        346784 non-null  float64\n",
      " 39  Longitude                       346784 non-null  float64\n",
      " 40  Location                        346784 non-null  object \n",
      "dtypes: float64(12), int64(1), object(28)\n",
      "memory usage: 109.3+ MB\n"
     ]
    }
   ],
   "source": [
    "df.info()"
   ]
  },
  {
   "cell_type": "code",
   "execution_count": 22,
   "id": "c065362d",
   "metadata": {
    "scrolled": true
   },
   "outputs": [
    {
     "data": {
      "text/plain": [
       "['Unique Key',\n",
       " 'Created Date',\n",
       " 'Closed Date',\n",
       " 'Agency',\n",
       " 'Agency Name',\n",
       " 'Complaint Type',\n",
       " 'Descriptor',\n",
       " 'Location Type',\n",
       " 'Incident Zip',\n",
       " 'Incident Address',\n",
       " 'Street Name',\n",
       " 'Cross Street 1',\n",
       " 'Cross Street 2',\n",
       " 'Intersection Street 1',\n",
       " 'Intersection Street 2',\n",
       " 'Address Type',\n",
       " 'City',\n",
       " 'Landmark',\n",
       " 'Facility Type',\n",
       " 'Status',\n",
       " 'Due Date',\n",
       " 'Resolution Description',\n",
       " 'Resolution Action Updated Date',\n",
       " 'Community Board',\n",
       " 'BBL',\n",
       " 'Borough',\n",
       " 'X Coordinate (State Plane)',\n",
       " 'Y Coordinate (State Plane)',\n",
       " 'Open Data Channel Type',\n",
       " 'Park Facility Name',\n",
       " 'Park Borough',\n",
       " 'Vehicle Type',\n",
       " 'Taxi Company Borough',\n",
       " 'Taxi Pick Up Location',\n",
       " 'Bridge Highway Name',\n",
       " 'Bridge Highway Direction',\n",
       " 'Road Ramp',\n",
       " 'Bridge Highway Segment',\n",
       " 'Latitude',\n",
       " 'Longitude',\n",
       " 'Location']"
      ]
     },
     "execution_count": 22,
     "metadata": {},
     "output_type": "execute_result"
    }
   ],
   "source": [
    "## created a list of dataset colummns\n",
    "list(df.columns)"
   ]
  },
  {
   "cell_type": "code",
   "execution_count": 23,
   "id": "cf2eae9b",
   "metadata": {},
   "outputs": [],
   "source": [
    "## Deleted Columnns with zero values in the dataset\n",
    "df.drop([\"Taxi Company Borough\", \"Taxi Pick Up Location\", \"Bridge Highway Name\", \"Bridge Highway Direction\", \"Road Ramp\", \"Bridge Highway Segment\", \"Facility Type\",\"Vehicle Type\"], axis = 1, inplace=True)"
   ]
  },
  {
   "cell_type": "code",
   "execution_count": 24,
   "id": "f88868a1",
   "metadata": {},
   "outputs": [],
   "source": [
    "## Delete columns not related to finding location and complaint\n",
    "df.drop([\"X Coordinate (State Plane)\",\"Y Coordinate (State Plane)\",\"Open Data Channel Type\", \"Park Facility Name\", \"Park Borough\", \"BBL\", \"Agency\",\"Due Date\",\"Latitude\", \"Longitude\",\"Location\"],axis = 1, inplace=True)"
   ]
  },
  {
   "cell_type": "code",
   "execution_count": 25,
   "id": "891810fd",
   "metadata": {},
   "outputs": [],
   "source": [
    "## Delete columns not related to finding location and complaint\n",
    "df.drop([\"Street Name\",\"Intersection Street 1\", \"Intersection Street 2\",\"Address Type\", \"Landmark\" ],axis = 1, inplace=True)"
   ]
  },
  {
   "cell_type": "code",
   "execution_count": 26,
   "id": "85b497e8",
   "metadata": {
    "scrolled": true
   },
   "outputs": [
    {
     "data": {
      "text/html": [
       "<div>\n",
       "<style scoped>\n",
       "    .dataframe tbody tr th:only-of-type {\n",
       "        vertical-align: middle;\n",
       "    }\n",
       "\n",
       "    .dataframe tbody tr th {\n",
       "        vertical-align: top;\n",
       "    }\n",
       "\n",
       "    .dataframe thead th {\n",
       "        text-align: right;\n",
       "    }\n",
       "</style>\n",
       "<table border=\"1\" class=\"dataframe\">\n",
       "  <thead>\n",
       "    <tr style=\"text-align: right;\">\n",
       "      <th></th>\n",
       "      <th>Unique Key</th>\n",
       "      <th>Created Date</th>\n",
       "      <th>Closed Date</th>\n",
       "      <th>Agency Name</th>\n",
       "      <th>Complaint Type</th>\n",
       "      <th>Descriptor</th>\n",
       "      <th>Location Type</th>\n",
       "      <th>Incident Zip</th>\n",
       "      <th>Incident Address</th>\n",
       "      <th>Cross Street 1</th>\n",
       "      <th>Cross Street 2</th>\n",
       "      <th>City</th>\n",
       "      <th>Status</th>\n",
       "      <th>Resolution Description</th>\n",
       "      <th>Resolution Action Updated Date</th>\n",
       "      <th>Community Board</th>\n",
       "      <th>Borough</th>\n",
       "    </tr>\n",
       "  </thead>\n",
       "  <tbody>\n",
       "    <tr>\n",
       "      <th>0</th>\n",
       "      <td>50706157</td>\n",
       "      <td>05/28/2021 03:52:03 PM</td>\n",
       "      <td>05/28/2021 03:52:03 PM</td>\n",
       "      <td>Department of Health and Mental Hygiene</td>\n",
       "      <td>Rodent</td>\n",
       "      <td>Rat Sighting</td>\n",
       "      <td>3+ Family Apt. Building</td>\n",
       "      <td>11215.0</td>\n",
       "      <td>415A 16 STREET</td>\n",
       "      <td>8 AVENUE</td>\n",
       "      <td>PROSPECT PARK WEST</td>\n",
       "      <td>BROOKLYN</td>\n",
       "      <td>Closed</td>\n",
       "      <td>An inspection of the property was conducted an...</td>\n",
       "      <td>05/28/2021 03:52:03 PM</td>\n",
       "      <td>07 BROOKLYN</td>\n",
       "      <td>BROOKLYN</td>\n",
       "    </tr>\n",
       "    <tr>\n",
       "      <th>1</th>\n",
       "      <td>50722224</td>\n",
       "      <td>05/30/2021 06:44:31 AM</td>\n",
       "      <td>05/30/2021 06:44:31 AM</td>\n",
       "      <td>Department of Health and Mental Hygiene</td>\n",
       "      <td>Rodent</td>\n",
       "      <td>Rat Sighting</td>\n",
       "      <td>1-2 Family Dwelling</td>\n",
       "      <td>10472.0</td>\n",
       "      <td>1798 EAST  174 STREET</td>\n",
       "      <td>ST LAWRENCE AVENUE</td>\n",
       "      <td>BEACH AVENUE</td>\n",
       "      <td>BRONX</td>\n",
       "      <td>Closed</td>\n",
       "      <td>The Department of Health and Mental Hygiene in...</td>\n",
       "      <td>05/30/2021 06:44:31 AM</td>\n",
       "      <td>09 BRONX</td>\n",
       "      <td>BRONX</td>\n",
       "    </tr>\n",
       "    <tr>\n",
       "      <th>2</th>\n",
       "      <td>50728649</td>\n",
       "      <td>05/31/2021 03:26:10 PM</td>\n",
       "      <td>08/06/2021 01:54:52 PM</td>\n",
       "      <td>Department of Health and Mental Hygiene</td>\n",
       "      <td>Rodent</td>\n",
       "      <td>Condition Attracting Rodents</td>\n",
       "      <td>3+ Family Apt. Building</td>\n",
       "      <td>10468.0</td>\n",
       "      <td>2501 DAVIDSON AVENUE</td>\n",
       "      <td>WEST 190 STREET</td>\n",
       "      <td>WEST 192 STREET</td>\n",
       "      <td>BRONX</td>\n",
       "      <td>Closed</td>\n",
       "      <td>This service request was closed because the De...</td>\n",
       "      <td>05/31/2021 03:26:10 PM</td>\n",
       "      <td>07 BRONX</td>\n",
       "      <td>BRONX</td>\n",
       "    </tr>\n",
       "    <tr>\n",
       "      <th>3</th>\n",
       "      <td>50729607</td>\n",
       "      <td>05/31/2021 08:01:38 PM</td>\n",
       "      <td>05/31/2021 08:01:38 PM</td>\n",
       "      <td>Department of Health and Mental Hygiene</td>\n",
       "      <td>Rodent</td>\n",
       "      <td>Condition Attracting Rodents</td>\n",
       "      <td>Commercial Building</td>\n",
       "      <td>11375.0</td>\n",
       "      <td>113-24 QUEENS BOULEVARD</td>\n",
       "      <td>76 AVENUE</td>\n",
       "      <td>76 ROAD</td>\n",
       "      <td>Forest Hills</td>\n",
       "      <td>Closed</td>\n",
       "      <td>The Department of Health and Mental Hygiene fo...</td>\n",
       "      <td>05/31/2021 08:01:38 PM</td>\n",
       "      <td>06 QUEENS</td>\n",
       "      <td>QUEENS</td>\n",
       "    </tr>\n",
       "    <tr>\n",
       "      <th>4</th>\n",
       "      <td>50732194</td>\n",
       "      <td>05/31/2021 04:09:38 PM</td>\n",
       "      <td>05/31/2021 04:09:38 PM</td>\n",
       "      <td>Department of Health and Mental Hygiene</td>\n",
       "      <td>Rodent</td>\n",
       "      <td>Rat Sighting</td>\n",
       "      <td>Other (Explain Below)</td>\n",
       "      <td>11375.0</td>\n",
       "      <td>100-07 67 ROAD</td>\n",
       "      <td>67 ROAD</td>\n",
       "      <td>QUEENS BOULEVARD</td>\n",
       "      <td>Forest Hills</td>\n",
       "      <td>Closed</td>\n",
       "      <td>The Department of Health and Mental Hygiene in...</td>\n",
       "      <td>05/31/2021 04:09:38 PM</td>\n",
       "      <td>06 QUEENS</td>\n",
       "      <td>QUEENS</td>\n",
       "    </tr>\n",
       "  </tbody>\n",
       "</table>\n",
       "</div>"
      ],
      "text/plain": [
       "   Unique Key            Created Date             Closed Date  \\\n",
       "0    50706157  05/28/2021 03:52:03 PM  05/28/2021 03:52:03 PM   \n",
       "1    50722224  05/30/2021 06:44:31 AM  05/30/2021 06:44:31 AM   \n",
       "2    50728649  05/31/2021 03:26:10 PM  08/06/2021 01:54:52 PM   \n",
       "3    50729607  05/31/2021 08:01:38 PM  05/31/2021 08:01:38 PM   \n",
       "4    50732194  05/31/2021 04:09:38 PM  05/31/2021 04:09:38 PM   \n",
       "\n",
       "                               Agency Name Complaint Type  \\\n",
       "0  Department of Health and Mental Hygiene         Rodent   \n",
       "1  Department of Health and Mental Hygiene         Rodent   \n",
       "2  Department of Health and Mental Hygiene         Rodent   \n",
       "3  Department of Health and Mental Hygiene         Rodent   \n",
       "4  Department of Health and Mental Hygiene         Rodent   \n",
       "\n",
       "                     Descriptor            Location Type  Incident Zip  \\\n",
       "0                  Rat Sighting  3+ Family Apt. Building       11215.0   \n",
       "1                  Rat Sighting      1-2 Family Dwelling       10472.0   \n",
       "2  Condition Attracting Rodents  3+ Family Apt. Building       10468.0   \n",
       "3  Condition Attracting Rodents      Commercial Building       11375.0   \n",
       "4                  Rat Sighting    Other (Explain Below)       11375.0   \n",
       "\n",
       "          Incident Address      Cross Street 1      Cross Street 2  \\\n",
       "0           415A 16 STREET            8 AVENUE  PROSPECT PARK WEST   \n",
       "1    1798 EAST  174 STREET  ST LAWRENCE AVENUE        BEACH AVENUE   \n",
       "2     2501 DAVIDSON AVENUE     WEST 190 STREET     WEST 192 STREET   \n",
       "3  113-24 QUEENS BOULEVARD           76 AVENUE             76 ROAD   \n",
       "4           100-07 67 ROAD             67 ROAD    QUEENS BOULEVARD   \n",
       "\n",
       "           City  Status                             Resolution Description  \\\n",
       "0      BROOKLYN  Closed  An inspection of the property was conducted an...   \n",
       "1         BRONX  Closed  The Department of Health and Mental Hygiene in...   \n",
       "2         BRONX  Closed  This service request was closed because the De...   \n",
       "3  Forest Hills  Closed  The Department of Health and Mental Hygiene fo...   \n",
       "4  Forest Hills  Closed  The Department of Health and Mental Hygiene in...   \n",
       "\n",
       "  Resolution Action Updated Date Community Board   Borough  \n",
       "0         05/28/2021 03:52:03 PM     07 BROOKLYN  BROOKLYN  \n",
       "1         05/30/2021 06:44:31 AM        09 BRONX     BRONX  \n",
       "2         05/31/2021 03:26:10 PM        07 BRONX     BRONX  \n",
       "3         05/31/2021 08:01:38 PM       06 QUEENS    QUEENS  \n",
       "4         05/31/2021 04:09:38 PM       06 QUEENS    QUEENS  "
      ]
     },
     "execution_count": 26,
     "metadata": {},
     "output_type": "execute_result"
    }
   ],
   "source": [
    "## Called the Dataframe\n",
    "df.head()"
   ]
  },
  {
   "cell_type": "code",
   "execution_count": 27,
   "id": "4d9ad4c4",
   "metadata": {},
   "outputs": [
    {
     "data": {
      "text/plain": [
       "'05/28/2021 03:52:03 PM'"
      ]
     },
     "execution_count": 27,
     "metadata": {},
     "output_type": "execute_result"
    }
   ],
   "source": [
    "## Identified the structure of the first entry in the 'Created Date' colummn \n",
    "example_data = df.iloc[0]['Created Date']\n",
    "example_data"
   ]
  },
  {
   "cell_type": "code",
   "execution_count": 28,
   "id": "786bb567",
   "metadata": {},
   "outputs": [],
   "source": [
    "## Defined a function to separate the time and date in the 'Created Date' colummn for all the entries\n",
    "def get_year(d):\n",
    "    just_date = d.split(\" \")[0]\n",
    "    year= just_date.split(\"/\")[2]\n",
    "    return year"
   ]
  },
  {
   "cell_type": "code",
   "execution_count": 29,
   "id": "1d5233ec",
   "metadata": {},
   "outputs": [
    {
     "data": {
      "text/plain": [
       "'2021'"
      ]
     },
     "execution_count": 29,
     "metadata": {},
     "output_type": "execute_result"
    }
   ],
   "source": [
    "## Ran the function for the for the first entry\n",
    "get_year(example_data)"
   ]
  },
  {
   "cell_type": "code",
   "execution_count": 30,
   "id": "a61ca44f",
   "metadata": {},
   "outputs": [],
   "source": [
    "## Created a new colummn with the year indicated \n",
    "df[\"year created\"] = df[\"Created Date\"].apply(get_year)"
   ]
  },
  {
   "cell_type": "code",
   "execution_count": 31,
   "id": "0ba5ccbe",
   "metadata": {
    "scrolled": true
   },
   "outputs": [
    {
     "data": {
      "text/html": [
       "<div>\n",
       "<style scoped>\n",
       "    .dataframe tbody tr th:only-of-type {\n",
       "        vertical-align: middle;\n",
       "    }\n",
       "\n",
       "    .dataframe tbody tr th {\n",
       "        vertical-align: top;\n",
       "    }\n",
       "\n",
       "    .dataframe thead th {\n",
       "        text-align: right;\n",
       "    }\n",
       "</style>\n",
       "<table border=\"1\" class=\"dataframe\">\n",
       "  <thead>\n",
       "    <tr style=\"text-align: right;\">\n",
       "      <th></th>\n",
       "      <th>Unique Key</th>\n",
       "      <th>Created Date</th>\n",
       "      <th>Closed Date</th>\n",
       "      <th>Agency Name</th>\n",
       "      <th>Complaint Type</th>\n",
       "      <th>Descriptor</th>\n",
       "      <th>Location Type</th>\n",
       "      <th>Incident Zip</th>\n",
       "      <th>Incident Address</th>\n",
       "      <th>Cross Street 1</th>\n",
       "      <th>Cross Street 2</th>\n",
       "      <th>City</th>\n",
       "      <th>Status</th>\n",
       "      <th>Resolution Description</th>\n",
       "      <th>Resolution Action Updated Date</th>\n",
       "      <th>Community Board</th>\n",
       "      <th>Borough</th>\n",
       "      <th>year created</th>\n",
       "    </tr>\n",
       "  </thead>\n",
       "  <tbody>\n",
       "    <tr>\n",
       "      <th>0</th>\n",
       "      <td>50706157</td>\n",
       "      <td>05/28/2021 03:52:03 PM</td>\n",
       "      <td>05/28/2021 03:52:03 PM</td>\n",
       "      <td>Department of Health and Mental Hygiene</td>\n",
       "      <td>Rodent</td>\n",
       "      <td>Rat Sighting</td>\n",
       "      <td>3+ Family Apt. Building</td>\n",
       "      <td>11215.0</td>\n",
       "      <td>415A 16 STREET</td>\n",
       "      <td>8 AVENUE</td>\n",
       "      <td>PROSPECT PARK WEST</td>\n",
       "      <td>BROOKLYN</td>\n",
       "      <td>Closed</td>\n",
       "      <td>An inspection of the property was conducted an...</td>\n",
       "      <td>05/28/2021 03:52:03 PM</td>\n",
       "      <td>07 BROOKLYN</td>\n",
       "      <td>BROOKLYN</td>\n",
       "      <td>2021</td>\n",
       "    </tr>\n",
       "    <tr>\n",
       "      <th>1</th>\n",
       "      <td>50722224</td>\n",
       "      <td>05/30/2021 06:44:31 AM</td>\n",
       "      <td>05/30/2021 06:44:31 AM</td>\n",
       "      <td>Department of Health and Mental Hygiene</td>\n",
       "      <td>Rodent</td>\n",
       "      <td>Rat Sighting</td>\n",
       "      <td>1-2 Family Dwelling</td>\n",
       "      <td>10472.0</td>\n",
       "      <td>1798 EAST  174 STREET</td>\n",
       "      <td>ST LAWRENCE AVENUE</td>\n",
       "      <td>BEACH AVENUE</td>\n",
       "      <td>BRONX</td>\n",
       "      <td>Closed</td>\n",
       "      <td>The Department of Health and Mental Hygiene in...</td>\n",
       "      <td>05/30/2021 06:44:31 AM</td>\n",
       "      <td>09 BRONX</td>\n",
       "      <td>BRONX</td>\n",
       "      <td>2021</td>\n",
       "    </tr>\n",
       "    <tr>\n",
       "      <th>2</th>\n",
       "      <td>50728649</td>\n",
       "      <td>05/31/2021 03:26:10 PM</td>\n",
       "      <td>08/06/2021 01:54:52 PM</td>\n",
       "      <td>Department of Health and Mental Hygiene</td>\n",
       "      <td>Rodent</td>\n",
       "      <td>Condition Attracting Rodents</td>\n",
       "      <td>3+ Family Apt. Building</td>\n",
       "      <td>10468.0</td>\n",
       "      <td>2501 DAVIDSON AVENUE</td>\n",
       "      <td>WEST 190 STREET</td>\n",
       "      <td>WEST 192 STREET</td>\n",
       "      <td>BRONX</td>\n",
       "      <td>Closed</td>\n",
       "      <td>This service request was closed because the De...</td>\n",
       "      <td>05/31/2021 03:26:10 PM</td>\n",
       "      <td>07 BRONX</td>\n",
       "      <td>BRONX</td>\n",
       "      <td>2021</td>\n",
       "    </tr>\n",
       "    <tr>\n",
       "      <th>3</th>\n",
       "      <td>50729607</td>\n",
       "      <td>05/31/2021 08:01:38 PM</td>\n",
       "      <td>05/31/2021 08:01:38 PM</td>\n",
       "      <td>Department of Health and Mental Hygiene</td>\n",
       "      <td>Rodent</td>\n",
       "      <td>Condition Attracting Rodents</td>\n",
       "      <td>Commercial Building</td>\n",
       "      <td>11375.0</td>\n",
       "      <td>113-24 QUEENS BOULEVARD</td>\n",
       "      <td>76 AVENUE</td>\n",
       "      <td>76 ROAD</td>\n",
       "      <td>Forest Hills</td>\n",
       "      <td>Closed</td>\n",
       "      <td>The Department of Health and Mental Hygiene fo...</td>\n",
       "      <td>05/31/2021 08:01:38 PM</td>\n",
       "      <td>06 QUEENS</td>\n",
       "      <td>QUEENS</td>\n",
       "      <td>2021</td>\n",
       "    </tr>\n",
       "    <tr>\n",
       "      <th>4</th>\n",
       "      <td>50732194</td>\n",
       "      <td>05/31/2021 04:09:38 PM</td>\n",
       "      <td>05/31/2021 04:09:38 PM</td>\n",
       "      <td>Department of Health and Mental Hygiene</td>\n",
       "      <td>Rodent</td>\n",
       "      <td>Rat Sighting</td>\n",
       "      <td>Other (Explain Below)</td>\n",
       "      <td>11375.0</td>\n",
       "      <td>100-07 67 ROAD</td>\n",
       "      <td>67 ROAD</td>\n",
       "      <td>QUEENS BOULEVARD</td>\n",
       "      <td>Forest Hills</td>\n",
       "      <td>Closed</td>\n",
       "      <td>The Department of Health and Mental Hygiene in...</td>\n",
       "      <td>05/31/2021 04:09:38 PM</td>\n",
       "      <td>06 QUEENS</td>\n",
       "      <td>QUEENS</td>\n",
       "      <td>2021</td>\n",
       "    </tr>\n",
       "  </tbody>\n",
       "</table>\n",
       "</div>"
      ],
      "text/plain": [
       "   Unique Key            Created Date             Closed Date  \\\n",
       "0    50706157  05/28/2021 03:52:03 PM  05/28/2021 03:52:03 PM   \n",
       "1    50722224  05/30/2021 06:44:31 AM  05/30/2021 06:44:31 AM   \n",
       "2    50728649  05/31/2021 03:26:10 PM  08/06/2021 01:54:52 PM   \n",
       "3    50729607  05/31/2021 08:01:38 PM  05/31/2021 08:01:38 PM   \n",
       "4    50732194  05/31/2021 04:09:38 PM  05/31/2021 04:09:38 PM   \n",
       "\n",
       "                               Agency Name Complaint Type  \\\n",
       "0  Department of Health and Mental Hygiene         Rodent   \n",
       "1  Department of Health and Mental Hygiene         Rodent   \n",
       "2  Department of Health and Mental Hygiene         Rodent   \n",
       "3  Department of Health and Mental Hygiene         Rodent   \n",
       "4  Department of Health and Mental Hygiene         Rodent   \n",
       "\n",
       "                     Descriptor            Location Type  Incident Zip  \\\n",
       "0                  Rat Sighting  3+ Family Apt. Building       11215.0   \n",
       "1                  Rat Sighting      1-2 Family Dwelling       10472.0   \n",
       "2  Condition Attracting Rodents  3+ Family Apt. Building       10468.0   \n",
       "3  Condition Attracting Rodents      Commercial Building       11375.0   \n",
       "4                  Rat Sighting    Other (Explain Below)       11375.0   \n",
       "\n",
       "          Incident Address      Cross Street 1      Cross Street 2  \\\n",
       "0           415A 16 STREET            8 AVENUE  PROSPECT PARK WEST   \n",
       "1    1798 EAST  174 STREET  ST LAWRENCE AVENUE        BEACH AVENUE   \n",
       "2     2501 DAVIDSON AVENUE     WEST 190 STREET     WEST 192 STREET   \n",
       "3  113-24 QUEENS BOULEVARD           76 AVENUE             76 ROAD   \n",
       "4           100-07 67 ROAD             67 ROAD    QUEENS BOULEVARD   \n",
       "\n",
       "           City  Status                             Resolution Description  \\\n",
       "0      BROOKLYN  Closed  An inspection of the property was conducted an...   \n",
       "1         BRONX  Closed  The Department of Health and Mental Hygiene in...   \n",
       "2         BRONX  Closed  This service request was closed because the De...   \n",
       "3  Forest Hills  Closed  The Department of Health and Mental Hygiene fo...   \n",
       "4  Forest Hills  Closed  The Department of Health and Mental Hygiene in...   \n",
       "\n",
       "  Resolution Action Updated Date Community Board   Borough year created  \n",
       "0         05/28/2021 03:52:03 PM     07 BROOKLYN  BROOKLYN         2021  \n",
       "1         05/30/2021 06:44:31 AM        09 BRONX     BRONX         2021  \n",
       "2         05/31/2021 03:26:10 PM        07 BRONX     BRONX         2021  \n",
       "3         05/31/2021 08:01:38 PM       06 QUEENS    QUEENS         2021  \n",
       "4         05/31/2021 04:09:38 PM       06 QUEENS    QUEENS         2021  "
      ]
     },
     "execution_count": 31,
     "metadata": {},
     "output_type": "execute_result"
    }
   ],
   "source": [
    "df.head()"
   ]
  },
  {
   "cell_type": "code",
   "execution_count": 32,
   "id": "044c4dc6",
   "metadata": {},
   "outputs": [],
   "source": [
    "## Filtered the dataframe to only include the years 2019,2020,2021 and 2022\n",
    "my_filter = df[\"year created\"] >= \"2019\""
   ]
  },
  {
   "cell_type": "code",
   "execution_count": 33,
   "id": "e367906b",
   "metadata": {},
   "outputs": [],
   "source": [
    "df = df[my_filter]"
   ]
  },
  {
   "cell_type": "code",
   "execution_count": 34,
   "id": "145f2909",
   "metadata": {},
   "outputs": [
    {
     "data": {
      "text/plain": [
       "array(['2021', '2019', '2020', '2022'], dtype=object)"
      ]
     },
     "execution_count": 34,
     "metadata": {},
     "output_type": "execute_result"
    }
   ],
   "source": [
    "## Verified that the unique values of include the specific years from 2019-2022\n",
    "df[\"year created\"].unique()"
   ]
  },
  {
   "cell_type": "code",
   "execution_count": 35,
   "id": "dd425e9e",
   "metadata": {},
   "outputs": [],
   "source": [
    "## Create a groupby to separate information by year and borough, as well as count the nuumber of reports in each borough\n",
    "grouped = df.groupby(by= [\"year created\",\"Borough\"]).count()[[\"Unique Key\"]]"
   ]
  },
  {
   "cell_type": "code",
   "execution_count": 36,
   "id": "9a2cd794",
   "metadata": {
    "scrolled": false
   },
   "outputs": [
    {
     "data": {
      "text/html": [
       "<div>\n",
       "<style scoped>\n",
       "    .dataframe tbody tr th:only-of-type {\n",
       "        vertical-align: middle;\n",
       "    }\n",
       "\n",
       "    .dataframe tbody tr th {\n",
       "        vertical-align: top;\n",
       "    }\n",
       "\n",
       "    .dataframe thead th {\n",
       "        text-align: right;\n",
       "    }\n",
       "</style>\n",
       "<table border=\"1\" class=\"dataframe\">\n",
       "  <thead>\n",
       "    <tr style=\"text-align: right;\">\n",
       "      <th></th>\n",
       "      <th></th>\n",
       "      <th>Unique Key</th>\n",
       "    </tr>\n",
       "    <tr>\n",
       "      <th>year created</th>\n",
       "      <th>Borough</th>\n",
       "      <th></th>\n",
       "    </tr>\n",
       "  </thead>\n",
       "  <tbody>\n",
       "    <tr>\n",
       "      <th rowspan=\"6\" valign=\"top\">2019</th>\n",
       "      <th>BRONX</th>\n",
       "      <td>5864</td>\n",
       "    </tr>\n",
       "    <tr>\n",
       "      <th>BROOKLYN</th>\n",
       "      <td>11349</td>\n",
       "    </tr>\n",
       "    <tr>\n",
       "      <th>MANHATTAN</th>\n",
       "      <td>7274</td>\n",
       "    </tr>\n",
       "    <tr>\n",
       "      <th>QUEENS</th>\n",
       "      <td>5493</td>\n",
       "    </tr>\n",
       "    <tr>\n",
       "      <th>STATEN ISLAND</th>\n",
       "      <td>1658</td>\n",
       "    </tr>\n",
       "    <tr>\n",
       "      <th>Unspecified</th>\n",
       "      <td>6</td>\n",
       "    </tr>\n",
       "    <tr>\n",
       "      <th rowspan=\"5\" valign=\"top\">2020</th>\n",
       "      <th>BRONX</th>\n",
       "      <td>5125</td>\n",
       "    </tr>\n",
       "    <tr>\n",
       "      <th>BROOKLYN</th>\n",
       "      <td>9661</td>\n",
       "    </tr>\n",
       "    <tr>\n",
       "      <th>MANHATTAN</th>\n",
       "      <td>6511</td>\n",
       "    </tr>\n",
       "    <tr>\n",
       "      <th>QUEENS</th>\n",
       "      <td>5028</td>\n",
       "    </tr>\n",
       "    <tr>\n",
       "      <th>STATEN ISLAND</th>\n",
       "      <td>1258</td>\n",
       "    </tr>\n",
       "    <tr>\n",
       "      <th rowspan=\"6\" valign=\"top\">2021</th>\n",
       "      <th>BRONX</th>\n",
       "      <td>7074</td>\n",
       "    </tr>\n",
       "    <tr>\n",
       "      <th>BROOKLYN</th>\n",
       "      <td>14545</td>\n",
       "    </tr>\n",
       "    <tr>\n",
       "      <th>MANHATTAN</th>\n",
       "      <td>10056</td>\n",
       "    </tr>\n",
       "    <tr>\n",
       "      <th>QUEENS</th>\n",
       "      <td>5782</td>\n",
       "    </tr>\n",
       "    <tr>\n",
       "      <th>STATEN ISLAND</th>\n",
       "      <td>1351</td>\n",
       "    </tr>\n",
       "    <tr>\n",
       "      <th>Unspecified</th>\n",
       "      <td>1</td>\n",
       "    </tr>\n",
       "    <tr>\n",
       "      <th rowspan=\"6\" valign=\"top\">2022</th>\n",
       "      <th>BRONX</th>\n",
       "      <td>1894</td>\n",
       "    </tr>\n",
       "    <tr>\n",
       "      <th>BROOKLYN</th>\n",
       "      <td>4092</td>\n",
       "    </tr>\n",
       "    <tr>\n",
       "      <th>MANHATTAN</th>\n",
       "      <td>3198</td>\n",
       "    </tr>\n",
       "    <tr>\n",
       "      <th>QUEENS</th>\n",
       "      <td>1614</td>\n",
       "    </tr>\n",
       "    <tr>\n",
       "      <th>STATEN ISLAND</th>\n",
       "      <td>290</td>\n",
       "    </tr>\n",
       "    <tr>\n",
       "      <th>Unspecified</th>\n",
       "      <td>2</td>\n",
       "    </tr>\n",
       "  </tbody>\n",
       "</table>\n",
       "</div>"
      ],
      "text/plain": [
       "                            Unique Key\n",
       "year created Borough                  \n",
       "2019         BRONX                5864\n",
       "             BROOKLYN            11349\n",
       "             MANHATTAN            7274\n",
       "             QUEENS               5493\n",
       "             STATEN ISLAND        1658\n",
       "             Unspecified             6\n",
       "2020         BRONX                5125\n",
       "             BROOKLYN             9661\n",
       "             MANHATTAN            6511\n",
       "             QUEENS               5028\n",
       "             STATEN ISLAND        1258\n",
       "2021         BRONX                7074\n",
       "             BROOKLYN            14545\n",
       "             MANHATTAN           10056\n",
       "             QUEENS               5782\n",
       "             STATEN ISLAND        1351\n",
       "             Unspecified             1\n",
       "2022         BRONX                1894\n",
       "             BROOKLYN             4092\n",
       "             MANHATTAN            3198\n",
       "             QUEENS               1614\n",
       "             STATEN ISLAND         290\n",
       "             Unspecified             2"
      ]
     },
     "execution_count": 36,
     "metadata": {},
     "output_type": "execute_result"
    }
   ],
   "source": [
    "grouped"
   ]
  },
  {
   "cell_type": "code",
   "execution_count": 37,
   "id": "1b65ad9d",
   "metadata": {},
   "outputs": [],
   "source": [
    "## Converted the groupby data into csv file\n",
    "grouped.to_csv(\"rats_year_borough.csv\")"
   ]
  },
  {
   "cell_type": "code",
   "execution_count": 38,
   "id": "beb09095",
   "metadata": {},
   "outputs": [
    {
     "data": {
      "text/plain": [
       "31645"
      ]
     },
     "execution_count": 38,
     "metadata": {},
     "output_type": "execute_result"
    }
   ],
   "source": [
    "## Filtered the dataset to include the sum of rat reportings in 2019\n",
    "fil_2019 = df[\"year created\"] == \"2019\"\n",
    "fil_2019.sum()"
   ]
  },
  {
   "cell_type": "code",
   "execution_count": 39,
   "id": "199600c3",
   "metadata": {},
   "outputs": [
    {
     "data": {
      "text/plain": [
       "27583"
      ]
     },
     "execution_count": 39,
     "metadata": {},
     "output_type": "execute_result"
    }
   ],
   "source": [
    "## Filtered the dataset to include the sum of rat reportings in 2020\n",
    "fil_2020 = df[\"year created\"] == \"2020\"\n",
    "fil_2020.sum()"
   ]
  },
  {
   "cell_type": "code",
   "execution_count": 40,
   "id": "bc7703fb",
   "metadata": {},
   "outputs": [
    {
     "data": {
      "text/plain": [
       "38811"
      ]
     },
     "execution_count": 40,
     "metadata": {},
     "output_type": "execute_result"
    }
   ],
   "source": [
    "## Filtered the dataset to include the sum of rat reportings in 2021\n",
    "fil_2021 = df[\"year created\"] == \"2021\"\n",
    "fil_2021.sum()"
   ]
  },
  {
   "cell_type": "code",
   "execution_count": 41,
   "id": "aaa6d43c",
   "metadata": {},
   "outputs": [
    {
     "data": {
      "text/plain": [
       "11090"
      ]
     },
     "execution_count": 41,
     "metadata": {},
     "output_type": "execute_result"
    }
   ],
   "source": [
    "## Filtered the dataset to include the sum of rat reportings in 2022\n",
    "fil_2022 = df[\"year created\"] == \"2022\"\n",
    "fil_2022.sum()"
   ]
  },
  {
   "cell_type": "code",
   "execution_count": 42,
   "id": "a1fafd94",
   "metadata": {},
   "outputs": [
    {
     "data": {
      "text/plain": [
       "27039"
      ]
     },
     "execution_count": 42,
     "metadata": {},
     "output_type": "execute_result"
    }
   ],
   "source": [
    "## Filtered the dataset to include the sum of rat reportings in Manhattan from 2019-2022\n",
    "fil_manhattan = df[\"Borough\"] == \"MANHATTAN\"\n",
    "fil_manhattan.sum()"
   ]
  },
  {
   "cell_type": "code",
   "execution_count": 43,
   "id": "a0013421",
   "metadata": {},
   "outputs": [
    {
     "data": {
      "text/plain": [
       "39647"
      ]
     },
     "execution_count": 43,
     "metadata": {},
     "output_type": "execute_result"
    }
   ],
   "source": [
    "## Filtered the dataset to include the sum of rat reportings in Brooklyn from 2019-2022\n",
    "fil_brooklyn = df[\"Borough\"] == \"BROOKLYN\"\n",
    "fil_brooklyn.sum()"
   ]
  },
  {
   "cell_type": "code",
   "execution_count": 44,
   "id": "b08e6dd6",
   "metadata": {},
   "outputs": [
    {
     "data": {
      "text/plain": [
       "19957"
      ]
     },
     "execution_count": 44,
     "metadata": {},
     "output_type": "execute_result"
    }
   ],
   "source": [
    "## Filtered the dataset to include the sum of rat reportings in Bronx from 2019-2022\n",
    "fil_bronx = df[\"Borough\"] == \"BRONX\"\n",
    "fil_bronx.sum()"
   ]
  },
  {
   "cell_type": "code",
   "execution_count": 45,
   "id": "8e2e50d9",
   "metadata": {},
   "outputs": [
    {
     "data": {
      "text/plain": [
       "4557"
      ]
     },
     "execution_count": 45,
     "metadata": {},
     "output_type": "execute_result"
    }
   ],
   "source": [
    "## Filtered the dataset to include the sum of rat reportings in Staten Island from 2019-2022\n",
    "fil_staten = df[\"Borough\"] == \"STATEN ISLAND\"\n",
    "fil_staten.sum()"
   ]
  },
  {
   "cell_type": "code",
   "execution_count": 46,
   "id": "b2ce6339",
   "metadata": {},
   "outputs": [
    {
     "data": {
      "text/plain": [
       "17917"
      ]
     },
     "execution_count": 46,
     "metadata": {},
     "output_type": "execute_result"
    }
   ],
   "source": [
    "## Filtered the dataset to include the sum of rat reportings in Queens from 2019-2022\n",
    "fil_queens = df[\"Borough\"] == \"QUEENS\"\n",
    "fil_queens.sum()"
   ]
  },
  {
   "cell_type": "code",
   "execution_count": 47,
   "id": "65ac900e",
   "metadata": {},
   "outputs": [],
   "source": [
    "## Create a groupby to separate information by year and zipcode, as well as count the nuumber of reports in each zipcode\n",
    "grouped_zip = df.groupby(by= [\"year created\",\"Incident Zip\"]).count()[[\"Unique Key\"]]"
   ]
  },
  {
   "cell_type": "code",
   "execution_count": 48,
   "id": "162ad6eb",
   "metadata": {
    "scrolled": false
   },
   "outputs": [],
   "source": [
    "## Converted the groupby zip code data into csv file\n",
    "grouped_zip.to_csv(\"rats_year_zipcode.csv\")"
   ]
  },
  {
   "cell_type": "code",
   "execution_count": 49,
   "id": "5b5760ed",
   "metadata": {},
   "outputs": [
    {
     "data": {
      "text/plain": [
       "11238.0    2702\n",
       "10025.0    2673\n",
       "11216.0    2612\n",
       "11221.0    2607\n",
       "11226.0    2103\n",
       "11233.0    1952\n",
       "11237.0    1785\n",
       "10453.0    1696\n",
       "10027.0    1692\n",
       "10026.0    1684\n",
       "Name: Incident Zip, dtype: int64"
      ]
     },
     "execution_count": 49,
     "metadata": {},
     "output_type": "execute_result"
    }
   ],
   "source": [
    "## Found the top ten incident zip codes that reported rat sightings from 2019-2022\n",
    "df[\"Incident Zip\"].value_counts().head(10)"
   ]
  },
  {
   "cell_type": "code",
   "execution_count": null,
   "id": "c2fb1e48",
   "metadata": {
    "scrolled": false
   },
   "outputs": [],
   "source": [
    "## Created dataframes for each specific year"
   ]
  },
  {
   "cell_type": "code",
   "execution_count": 66,
   "id": "3a277ecc",
   "metadata": {},
   "outputs": [],
   "source": [
    "## Created a dataset that included only the rat sightings in 2019\n",
    "fil_2019 = df[\"year created\"] ==\"2019\"\n",
    "rats_2019 = df[fil_2019]\n",
    "df_rats_2019 = rats_2019"
   ]
  },
  {
   "cell_type": "code",
   "execution_count": 51,
   "id": "d342d0ec",
   "metadata": {},
   "outputs": [
    {
     "data": {
      "text/plain": [
       "array(['2019'], dtype=object)"
      ]
     },
     "execution_count": 51,
     "metadata": {},
     "output_type": "execute_result"
    }
   ],
   "source": [
    "## Verified that 2019 was the only year listed\n",
    "rats_2019[\"year created\"].unique()"
   ]
  },
  {
   "cell_type": "code",
   "execution_count": 63,
   "id": "beec7908",
   "metadata": {},
   "outputs": [],
   "source": [
    "## Created a dataset that included only the rat sightings in 2020\n",
    "fil_2020 = df[\"year created\"] ==\"2020\"\n",
    "rats_2020 = df[fil_2020]\n",
    "df_rats_2020 = rats_2020"
   ]
  },
  {
   "cell_type": "code",
   "execution_count": 53,
   "id": "8f8745f1",
   "metadata": {},
   "outputs": [
    {
     "data": {
      "text/plain": [
       "array(['2020'], dtype=object)"
      ]
     },
     "execution_count": 53,
     "metadata": {},
     "output_type": "execute_result"
    }
   ],
   "source": [
    "## Verified that 2020 was the only year listed\n",
    "rats_2020[\"year created\"].unique()"
   ]
  },
  {
   "cell_type": "code",
   "execution_count": 64,
   "id": "5f81aa0e",
   "metadata": {},
   "outputs": [],
   "source": [
    "## Created a dataset that included only the rat sightings in 2021\n",
    "fil_2021 = df[\"year created\"] ==\"2021\"\n",
    "rats_2021 = df[fil_2021]\n",
    "df_rats_2021 = rats_2021"
   ]
  },
  {
   "cell_type": "code",
   "execution_count": 55,
   "id": "cea62398",
   "metadata": {},
   "outputs": [
    {
     "data": {
      "text/plain": [
       "array(['2021'], dtype=object)"
      ]
     },
     "execution_count": 55,
     "metadata": {},
     "output_type": "execute_result"
    }
   ],
   "source": [
    "## Verified that 2021 was the only year listed\n",
    "rats_2021[\"year created\"].unique()"
   ]
  },
  {
   "cell_type": "code",
   "execution_count": 65,
   "id": "dd3aaf70",
   "metadata": {},
   "outputs": [],
   "source": [
    "## Created a dataset that included only the rat sightings in 2022\n",
    "fil_2022 = df[\"year created\"] ==\"2022\"\n",
    "rats_2022 = df[fil_2022]\n",
    "df_rats_2022 = rats_2022"
   ]
  },
  {
   "cell_type": "code",
   "execution_count": 57,
   "id": "b3859569",
   "metadata": {},
   "outputs": [
    {
     "data": {
      "text/plain": [
       "array(['2022'], dtype=object)"
      ]
     },
     "execution_count": 57,
     "metadata": {},
     "output_type": "execute_result"
    }
   ],
   "source": [
    "## Verified that 2022 was the only year listed\n",
    "rats_2022[\"year created\"].unique()"
   ]
  },
  {
   "cell_type": "code",
   "execution_count": 67,
   "id": "38fd6547",
   "metadata": {},
   "outputs": [
    {
     "data": {
      "text/plain": [
       "11238.0    887\n",
       "10453.0    784\n",
       "11221.0    663\n",
       "10025.0    657\n",
       "11233.0    623\n",
       "11216.0    606\n",
       "11226.0    531\n",
       "11215.0    495\n",
       "11207.0    474\n",
       "10024.0    453\n",
       "Name: Incident Zip, dtype: int64"
      ]
     },
     "execution_count": 67,
     "metadata": {},
     "output_type": "execute_result"
    }
   ],
   "source": [
    "## Found the top ten zip codes that reported rat sightings in 2019\n",
    "df_rats_2019[\"Incident Zip\"].value_counts().head(10)"
   ]
  },
  {
   "cell_type": "code",
   "execution_count": 68,
   "id": "e56f59a0",
   "metadata": {},
   "outputs": [
    {
     "data": {
      "text/plain": [
       "11216.0    728\n",
       "11221.0    710\n",
       "10025.0    693\n",
       "11238.0    601\n",
       "11226.0    499\n",
       "11233.0    467\n",
       "11207.0    426\n",
       "10467.0    419\n",
       "10024.0    380\n",
       "10472.0    379\n",
       "Name: Incident Zip, dtype: int64"
      ]
     },
     "execution_count": 68,
     "metadata": {},
     "output_type": "execute_result"
    }
   ],
   "source": [
    "## Found the top ten zip codes that reported rat sightings in 2020\n",
    "df_rats_2020[\"Incident Zip\"].value_counts().head(10)"
   ]
  },
  {
   "cell_type": "code",
   "execution_count": 69,
   "id": "9a5305af",
   "metadata": {},
   "outputs": [
    {
     "data": {
      "text/plain": [
       "11216.0    1042\n",
       "10025.0    1012\n",
       "11238.0     995\n",
       "11221.0     965\n",
       "11226.0     812\n",
       "11233.0     714\n",
       "10027.0     707\n",
       "11237.0     698\n",
       "10026.0     693\n",
       "11385.0     612\n",
       "Name: Incident Zip, dtype: int64"
      ]
     },
     "execution_count": 69,
     "metadata": {},
     "output_type": "execute_result"
    }
   ],
   "source": [
    "## Found the top ten zip codes that reported rat sightings in 2021\n",
    "df_rats_2021[\"Incident Zip\"].value_counts().head(10)"
   ]
  },
  {
   "cell_type": "code",
   "execution_count": 70,
   "id": "5d03ee29",
   "metadata": {},
   "outputs": [
    {
     "data": {
      "text/plain": [
       "11237.0    311\n",
       "10025.0    311\n",
       "11221.0    269\n",
       "10033.0    265\n",
       "11226.0    261\n",
       "10035.0    255\n",
       "10024.0    247\n",
       "11216.0    236\n",
       "11238.0    219\n",
       "10026.0    199\n",
       "Name: Incident Zip, dtype: int64"
      ]
     },
     "execution_count": 70,
     "metadata": {},
     "output_type": "execute_result"
    }
   ],
   "source": [
    "## Found the top ten zip codes that reported rat sightings in 2022\n",
    "df_rats_2022[\"Incident Zip\"].value_counts().head(10)"
   ]
  },
  {
   "cell_type": "code",
   "execution_count": null,
   "id": "a8986319",
   "metadata": {},
   "outputs": [],
   "source": []
  }
 ],
 "metadata": {
  "kernelspec": {
   "display_name": "Python 3 (ipykernel)",
   "language": "python",
   "name": "python3"
  },
  "language_info": {
   "codemirror_mode": {
    "name": "ipython",
    "version": 3
   },
   "file_extension": ".py",
   "mimetype": "text/x-python",
   "name": "python",
   "nbconvert_exporter": "python",
   "pygments_lexer": "ipython3",
   "version": "3.9.7"
  }
 },
 "nbformat": 4,
 "nbformat_minor": 5
}
